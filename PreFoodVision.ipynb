{
  "nbformat": 4,
  "nbformat_minor": 0,
  "metadata": {
    "colab": {
      "name": "PreFoodVision.ipynb",
      "provenance": [],
      "collapsed_sections": []
    },
    "kernelspec": {
      "name": "python3",
      "display_name": "Python 3"
    },
    "language_info": {
      "name": "python"
    },
    "accelerator": "GPU"
  },
  "cells": [
    {
      "cell_type": "markdown",
      "metadata": {
        "id": "iMo0WlmZUOn5"
      },
      "source": [
        "# **Experimenting with 101 food classes of Food Vision with 10% of the data**"
      ]
    },
    {
      "cell_type": "code",
      "metadata": {
        "colab": {
          "base_uri": "https://localhost:8080/"
        },
        "id": "K1IfgnWWXNNO",
        "outputId": "680f62bc-11bc-4b81-da00-9f2c916dcdb9"
      },
      "source": [
        "!wget https://storage.googleapis.com/ztm_tf_course/food_vision/101_food_classes_10_percent.zip\n",
        "!wget https://raw.githubusercontent.com/mrdbourke/tensorflow-deep-learning/main/extras/helper_functions.py\n",
        "import tensorflow.keras.layers as layers\n",
        "import tensorflow.keras.optimizers as optimizers\n",
        "import tensorflow.keras.layers.experimental.preprocessing as preprocessing\n",
        "from helper_functions import *\n",
        "import tensorflow as tf\n",
        "IMG_SIZE = (224,224)\n",
        "BATCH_SIZE = 32\n",
        "unzip_data(\"101_food_classes_10_percent.zip\")\n",
        "train_dat_10 = \"/content/101_food_classes_10_percent/train\"\n",
        "test_dat_10 = \"/content/101_food_classes_10_percent/test\""
      ],
      "execution_count": 1,
      "outputs": [
        {
          "output_type": "stream",
          "name": "stdout",
          "text": [
            "--2021-11-08 20:49:55--  https://storage.googleapis.com/ztm_tf_course/food_vision/101_food_classes_10_percent.zip\n",
            "Resolving storage.googleapis.com (storage.googleapis.com)... 108.177.111.128, 108.177.121.128, 142.250.103.128, ...\n",
            "Connecting to storage.googleapis.com (storage.googleapis.com)|108.177.111.128|:443... connected.\n",
            "HTTP request sent, awaiting response... 200 OK\n",
            "Length: 1625420029 (1.5G) [application/zip]\n",
            "Saving to: ‘101_food_classes_10_percent.zip’\n",
            "\n",
            "101_food_classes_10 100%[===================>]   1.51G   160MB/s    in 11s     \n",
            "\n",
            "2021-11-08 20:50:07 (137 MB/s) - ‘101_food_classes_10_percent.zip’ saved [1625420029/1625420029]\n",
            "\n",
            "--2021-11-08 20:50:07--  https://raw.githubusercontent.com/mrdbourke/tensorflow-deep-learning/main/extras/helper_functions.py\n",
            "Resolving raw.githubusercontent.com (raw.githubusercontent.com)... 185.199.108.133, 185.199.109.133, 185.199.110.133, ...\n",
            "Connecting to raw.githubusercontent.com (raw.githubusercontent.com)|185.199.108.133|:443... connected.\n",
            "HTTP request sent, awaiting response... 200 OK\n",
            "Length: 10246 (10K) [text/plain]\n",
            "Saving to: ‘helper_functions.py’\n",
            "\n",
            "helper_functions.py 100%[===================>]  10.01K  --.-KB/s    in 0s      \n",
            "\n",
            "2021-11-08 20:50:07 (35.2 MB/s) - ‘helper_functions.py’ saved [10246/10246]\n",
            "\n"
          ]
        }
      ]
    },
    {
      "cell_type": "markdown",
      "metadata": {
        "id": "eLLEEX26UX1w"
      },
      "source": [
        "PreProcessing data "
      ]
    },
    {
      "cell_type": "code",
      "metadata": {
        "colab": {
          "base_uri": "https://localhost:8080/"
        },
        "id": "pQeFG7IIZDY0",
        "outputId": "9a2eb886-88d4-4639-8164-ae97a9954ca9"
      },
      "source": [
        "train_data_10 = tf.keras.preprocessing.image_dataset_from_directory(train_dat_10,label_mode=\"categorical\",image_size=IMG_SIZE)\n",
        "test_data_10 = tf.keras.preprocessing.image_dataset_from_directory(test_dat_10,label_mode=\"categorical\",image_size=IMG_SIZE, shuffle=False)"
      ],
      "execution_count": 2,
      "outputs": [
        {
          "output_type": "stream",
          "name": "stdout",
          "text": [
            "Found 7575 files belonging to 101 classes.\n",
            "Found 25250 files belonging to 101 classes.\n"
          ]
        }
      ]
    },
    {
      "cell_type": "code",
      "metadata": {
        "id": "5mTSNho2Zaoi"
      },
      "source": [
        "cp_path = \"101_ckpt\"\n",
        "cp_callback = tf.keras.callbacks.ModelCheckpoint(cp_path,\n",
        "                                                 save_best_only = True, \n",
        "                                                 save_weights_only = True,\n",
        "                                                 monitor = \"val_accuracy\")"
      ],
      "execution_count": 3,
      "outputs": []
    },
    {
      "cell_type": "code",
      "metadata": {
        "id": "fZcFoPpLarLM"
      },
      "source": [
        "aug_layer = tf.keras.Sequential([\n",
        "                                 preprocessing.RandomFlip(\"horizontal\"),\n",
        "                                 preprocessing.RandomHeight(0.2),\n",
        "                                 preprocessing.RandomWidth(0.2),\n",
        "                                 preprocessing.RandomZoom(0.2),\n",
        "                                 preprocessing.RandomZoom(0.2)\n",
        "], name = \"data-aug-layer\")"
      ],
      "execution_count": 4,
      "outputs": []
    },
    {
      "cell_type": "markdown",
      "metadata": {
        "id": "OnkI3JFNUp_5"
      },
      "source": [
        "**Building a model which has both an augmentation layer and last 5 layers of EfficientNet unfrozen**"
      ]
    },
    {
      "cell_type": "code",
      "metadata": {
        "colab": {
          "base_uri": "https://localhost:8080/"
        },
        "id": "fgcKVPzHbMGr",
        "outputId": "2b712784-1bb5-49f9-d67f-c5178790255b"
      },
      "source": [
        "base_model = tf.keras.applications.EfficientNetB0(include_top=False)\n",
        "base_model.trainable = True\n",
        "\n",
        "input_shape = (224,224,3)\n",
        "\n",
        "inputs = layers.Input(shape=input_shape)\n",
        "\n",
        "z = aug_layer(inputs)\n",
        "z = base_model(z,training = False)\n",
        "z = layers.GlobalAveragePooling2D()(z)\n",
        "\n",
        "for layer in base_model.layers[:-5]:\n",
        "  layer.trainable = False\n",
        "outs = layers.Dense(int(len(train_data_10.class_names)), activation=\"softmax\")(z)\n",
        "model_1 = tf.keras.Model(inputs,outs)\n",
        "\n",
        "#for layer in base_model.layers[:-10]:\n",
        "#  layer.trainable = False\n",
        "\n",
        "model_1.compile(loss=\"categorical_crossentropy\",metrics=[\"accuracy\"],optimizer= optimizers.Adam(learning_rate=0.0001))\n",
        "model_1.summary()"
      ],
      "execution_count": 5,
      "outputs": [
        {
          "output_type": "stream",
          "name": "stdout",
          "text": [
            "Downloading data from https://storage.googleapis.com/keras-applications/efficientnetb0_notop.h5\n",
            "16711680/16705208 [==============================] - 0s 0us/step\n",
            "16719872/16705208 [==============================] - 0s 0us/step\n",
            "Model: \"model\"\n",
            "_________________________________________________________________\n",
            "Layer (type)                 Output Shape              Param #   \n",
            "=================================================================\n",
            "input_2 (InputLayer)         [(None, 224, 224, 3)]     0         \n",
            "_________________________________________________________________\n",
            "data-aug-layer (Sequential)  (None, None, None, 3)     0         \n",
            "_________________________________________________________________\n",
            "efficientnetb0 (Functional)  (None, None, None, 1280)  4049571   \n",
            "_________________________________________________________________\n",
            "global_average_pooling2d (Gl (None, 1280)              0         \n",
            "_________________________________________________________________\n",
            "dense (Dense)                (None, 101)               129381    \n",
            "=================================================================\n",
            "Total params: 4,178,952\n",
            "Trainable params: 910,821\n",
            "Non-trainable params: 3,268,131\n",
            "_________________________________________________________________\n"
          ]
        }
      ]
    },
    {
      "cell_type": "code",
      "metadata": {
        "colab": {
          "base_uri": "https://localhost:8080/"
        },
        "id": "5G9kAWmKqVfI",
        "outputId": "52ebf827-af5b-4f4c-9dcd-068fa0f01e5f"
      },
      "source": [
        "track2 = model_1.fit(train_data_10,\n",
        "                     epochs = 5,\n",
        "                     steps_per_epoch= len(train_data_10),\n",
        "                     validation_data=test_data_10,\n",
        "                     validation_steps=int(0.15 * len(test_data_10)),\n",
        "                     callbacks =[create_tensorboard_callback(\"training\",\"onthe10%\"),cp_callback])"
      ],
      "execution_count": 6,
      "outputs": [
        {
          "output_type": "stream",
          "name": "stdout",
          "text": [
            "Saving TensorBoard log files to: training/onthe10%/20211108-205056\n",
            "Epoch 1/5\n"
          ]
        },
        {
          "output_type": "stream",
          "name": "stderr",
          "text": [
            "/usr/local/lib/python3.7/dist-packages/keras/utils/generic_utils.py:497: CustomMaskWarning: Custom mask layers require a config and must override get_config. When loading, the custom mask layer must be passed to the custom_objects argument.\n",
            "  category=CustomMaskWarning)\n"
          ]
        },
        {
          "output_type": "stream",
          "name": "stdout",
          "text": [
            "237/237 [==============================] - 163s 527ms/step - loss: 4.1295 - accuracy: 0.1199 - val_loss: 3.5008 - val_accuracy: 0.2092\n",
            "Epoch 2/5\n",
            "237/237 [==============================] - 92s 385ms/step - loss: 2.7243 - accuracy: 0.3582 - val_loss: 2.6003 - val_accuracy: 0.3649\n",
            "Epoch 3/5\n",
            "237/237 [==============================] - 86s 360ms/step - loss: 2.1832 - accuracy: 0.4610 - val_loss: 2.3541 - val_accuracy: 0.4137\n",
            "Epoch 4/5\n",
            "237/237 [==============================] - 82s 345ms/step - loss: 1.9335 - accuracy: 0.5197 - val_loss: 2.2748 - val_accuracy: 0.4190\n",
            "Epoch 5/5\n",
            "237/237 [==============================] - 82s 342ms/step - loss: 1.7640 - accuracy: 0.5523 - val_loss: 2.1784 - val_accuracy: 0.4399\n"
          ]
        }
      ]
    },
    {
      "cell_type": "markdown",
      "metadata": {
        "id": "IGuOYGO-VP70"
      },
      "source": [
        "Plotting loss curves"
      ]
    },
    {
      "cell_type": "code",
      "metadata": {
        "colab": {
          "base_uri": "https://localhost:8080/",
          "height": 573
        },
        "id": "2QcLP22jdFuC",
        "outputId": "60a1ea37-db6c-40f8-f3ee-896cbd2b9e53"
      },
      "source": [
        "plot_loss_curves(track2)"
      ],
      "execution_count": 7,
      "outputs": [
        {
          "output_type": "display_data",
          "data": {
            "image/png": "[encoded data removed]",
            "text/plain": [
              "<Figure size 432x288 with 1 Axes>"
            ]
          },
          "metadata": {
            "needs_background": "light"
          }
        },
        {
          "output_type": "display_data",
          "data": {
            "image/png": "[encoded data removed]",
            "text/plain": [
              "<Figure size 432x288 with 1 Axes>"
            ]
          },
          "metadata": {
            "needs_background": "light"
          }
        }
      ]
    },
    {
      "cell_type": "markdown",
      "metadata": {
        "id": "OyAaCjnJZyfV"
      },
      "source": [
        "**Further Training to see if the model improves**"
      ]
    },
    {
      "cell_type": "code",
      "metadata": {
        "colab": {
          "base_uri": "https://localhost:8080/"
        },
        "id": "PEfiEFvZhRdb",
        "outputId": "9b262d8e-3361-466a-cfb1-7638ddb85453"
      },
      "source": [
        "epoks = 10\n",
        "track2_finetuned = model_1.fit(train_data_10,\n",
        "                     epochs = epoks,\n",
        "                     steps_per_epoch= len(train_data_10),\n",
        "                     validation_data=test_data_10,\n",
        "                     validation_steps=int(0.15 * len(test_data_10)),\n",
        "                     callbacks =[create_tensorboard_callback(\"training\",\"finetuned\"),cp_callback],\n",
        "                     initial_epoch = track2.epoch[-1])"
      ],
      "execution_count": 9,
      "outputs": [
        {
          "output_type": "stream",
          "name": "stdout",
          "text": [
            "Saving TensorBoard log files to: training/finetuned/20211108-210154\n",
            "Epoch 5/10\n"
          ]
        },
        {
          "output_type": "stream",
          "name": "stderr",
          "text": [
            "/usr/local/lib/python3.7/dist-packages/keras/utils/generic_utils.py:497: CustomMaskWarning: Custom mask layers require a config and must override get_config. When loading, the custom mask layer must be passed to the custom_objects argument.\n",
            "  category=CustomMaskWarning)\n"
          ]
        },
        {
          "output_type": "stream",
          "name": "stdout",
          "text": [
            "237/237 [==============================] - 75s 314ms/step - loss: 1.6368 - accuracy: 0.5797 - val_loss: 2.0833 - val_accuracy: 0.4658\n",
            "Epoch 6/10\n",
            "237/237 [==============================] - 71s 299ms/step - loss: 1.5428 - accuracy: 0.6004 - val_loss: 2.1171 - val_accuracy: 0.4568\n",
            "Epoch 7/10\n",
            "237/237 [==============================] - 69s 287ms/step - loss: 1.4420 - accuracy: 0.6334 - val_loss: 2.1431 - val_accuracy: 0.4494\n",
            "Epoch 8/10\n",
            "237/237 [==============================] - 72s 303ms/step - loss: 1.3659 - accuracy: 0.6462 - val_loss: 2.0201 - val_accuracy: 0.4775\n",
            "Epoch 9/10\n",
            "237/237 [==============================] - 73s 304ms/step - loss: 1.3042 - accuracy: 0.6635 - val_loss: 2.0313 - val_accuracy: 0.4756\n",
            "Epoch 10/10\n",
            "237/237 [==============================] - 63s 266ms/step - loss: 1.2379 - accuracy: 0.6792 - val_loss: 2.0392 - val_accuracy: 0.4719\n"
          ]
        }
      ]
    },
    {
      "cell_type": "markdown",
      "metadata": {
        "id": "poWRKWc8Z5vf"
      },
      "source": [
        "Plotting Loss curves"
      ]
    },
    {
      "cell_type": "code",
      "metadata": {
        "colab": {
          "base_uri": "https://localhost:8080/",
          "height": 573
        },
        "id": "auD4H7ZcklQ9",
        "outputId": "e52383cb-0acf-4b0e-bd6d-026d8004eeba"
      },
      "source": [
        "plot_loss_curves(track2_finetuned)"
      ],
      "execution_count": 10,
      "outputs": [
        {
          "output_type": "display_data",
          "data": {
            "image/png": "[encoded data removed]",
            "text/plain": [
              "<Figure size 432x288 with 1 Axes>"
            ]
          },
          "metadata": {
            "needs_background": "light"
          }
        },
        {
          "output_type": "display_data",
          "data": {
            "image/png": "[encoded data removed]",
            "text/plain": [
              "<Figure size 432x288 with 1 Axes>"
            ]
          },
          "metadata": {
            "needs_background": "light"
          }
        }
      ]
    }
  ]
}